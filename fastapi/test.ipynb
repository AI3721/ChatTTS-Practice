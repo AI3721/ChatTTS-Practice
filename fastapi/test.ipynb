{
 "cells": [
  {
   "cell_type": "code",
   "execution_count": null,
   "metadata": {},
   "outputs": [],
   "source": [
    "import requests\n",
    "\n",
    "def get_response(prompt, history=[], temperature=0.5):\n",
    "    json = {\"prompt\": prompt, \"history\": history, \"temperature\": temperature}\n",
    "    response = requests.post(url='http://127.0.0.1:7788/chat', json=json)\n",
    "    return response.json()['answer']\n",
    "\n",
    "print(get_response('你是谁？我是谁？'))"
   ]
  },
  {
   "cell_type": "code",
   "execution_count": null,
   "metadata": {},
   "outputs": [],
   "source": [
    "history = []\n",
    "while True:\n",
    "    print('*'*50)\n",
    "    prompt = input()\n",
    "    if prompt == \"q\":\n",
    "        break\n",
    "    print(\"ME: \" + prompt)\n",
    "    answer = get_response(prompt, history)\n",
    "    history.append([prompt, answer])\n",
    "    print(\"AI: \" + answer)"
   ]
  },
  {
   "cell_type": "code",
   "execution_count": null,
   "metadata": {},
   "outputs": [],
   "source": [
    "# tts\n",
    "import io\n",
    "import zipfile\n",
    "import requests\n",
    "\n",
    "params_refine_text = {\n",
    "    \"prompt\": \"\", \"top_P\": 0.7, \"top_K\": 10, \"temperature\": 0.3,\n",
    "    \"min_new_token\": 0, \"max_new_token\": 384,\n",
    "    \"stream_batch\": 24, \"repetition_penalty\": 1,\n",
    "    \"ensure_non_empty\": True, \"show_tqdm\": True,\n",
    "}\n",
    "params_infer_code = {\n",
    "    \"prompt\": \"[speed_5]\", \"top_P\": 0.7, \"top_K\": 10, \"temperature\": 0.3,\n",
    "    \"min_new_token\": 0, \"max_new_token\": 2048,\n",
    "    \"stream_batch\": True, \"repetition_penalty\": 1.05,\n",
    "    \"ensure_non_empty\": True, \"show_tqdm\": True, \"spk_emb\": None,\n",
    "}\n",
    "json = {\n",
    "    \"text\": [\"《三体》是一部描绘人类首次接触外星文明并引发一系列宇宙级冲突的科幻小说，讲述了在文化大革命时期，天文学家叶文洁向宇宙发送信息，意外联系到因不稳定恒星系统而寻求新栖息地的三体文明，随后地球人类面临三体文明的入侵威胁，社会分裂成合作派和抵抗派，展开了一场关乎人类命运的斗争，同时探索了科学、文明和宇宙的深层问题。\"],\n",
    "    \"audio_seed\": 37213721, \"text_seed\": 37213721,\n",
    "    \"lang\": None, \"stream\": False, \"use_decoder\": True,\n",
    "    \"skip_refine_text\": True, \"refine_text_only\": False,\n",
    "    \"do_text_normalization\": True, \"do_homophone_replacement\": False,\n",
    "}\n",
    "json[\"params_refine_text\"] = params_refine_text\n",
    "json[\"params_infer_code\"] = params_infer_code\n",
    "\n",
    "response = requests.post(url=\"http://127.0.0.1:7788/tts\", json=json)\n",
    "with zipfile.ZipFile(io.BytesIO(response.content), \"r\") as zip_f:\n",
    "    zip_f.extractall(\"output/test/\")"
   ]
  },
  {
   "cell_type": "code",
   "execution_count": null,
   "metadata": {},
   "outputs": [],
   "source": [
    "# spk_emb\n",
    "import requests\n",
    "def sample_random_speaker(audio_seed):\n",
    "    json = {\"seed\": audio_seed}\n",
    "    response = requests.post(url='http://127.0.0.1:7778/tts/srs', json=json)\n",
    "    return response.json()\n",
    "sample_random_speaker(1234)"
   ]
  },
  {
   "cell_type": "code",
   "execution_count": null,
   "metadata": {},
   "outputs": [],
   "source": [
    "# dvae_coef\n",
    "import requests\n",
    "response = requests.post(url='http://127.0.0.1:7788/tts/reload')\n",
    "response.json()"
   ]
  },
  {
   "cell_type": "code",
   "execution_count": null,
   "metadata": {},
   "outputs": [],
   "source": [
    "# refine text\n",
    "import requests\n",
    "def refine_text(text, text_seed, text_refine):\n",
    "    if not text_refine:\n",
    "        return text\n",
    "    params_refine_text = {\"temperature\": 0.3, \"top_P\": 0.7, \"top_K\": 10}\n",
    "    json = {\"text\": text, \"text_seed\": text_seed, \"params_refine_text\": params_refine_text}\n",
    "    response = requests.post(url='http://127.0.0.1:7788/tts/refine', json=json)\n",
    "    return response.json()\n",
    "text=refine_text(text=\"你是谁\",text_seed=2222,text_refine=True)\n",
    "text"
   ]
  }
 ],
 "metadata": {
  "kernelspec": {
   "display_name": "diffusers",
   "language": "python",
   "name": "python3"
  },
  "language_info": {
   "codemirror_mode": {
    "name": "ipython",
    "version": 3
   },
   "file_extension": ".py",
   "mimetype": "text/x-python",
   "name": "python",
   "nbconvert_exporter": "python",
   "pygments_lexer": "ipython3",
   "version": "3.11.9"
  }
 },
 "nbformat": 4,
 "nbformat_minor": 2
}
