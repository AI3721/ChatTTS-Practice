{
 "cells": [
  {
   "cell_type": "code",
   "execution_count": null,
   "metadata": {},
   "outputs": [],
   "source": [
    "from ex import output_text2\n",
    "from tts_more import split_line\n",
    "lines = split_line(output_text2)\n",
    "lines\n"
   ]
  },
  {
   "cell_type": "code",
   "execution_count": null,
   "metadata": {},
   "outputs": [],
   "source": [
    "import gradio as gr\n",
    "\n",
    "def js_insert(content):\n",
    "    return f\"\"\"value => {{\n",
    "        var content = ' {content} ';\n",
    "        var text_div = document.getElementById('input_text');\n",
    "        var textarea = text_div.querySelector('textarea');\n",
    "        var cursorPosition = textarea.selectionStart;\n",
    "        var value = textarea.value;\n",
    "        var new_value = value.substring(0, cursorPosition) + content + value.substring(cursorPosition);\n",
    "        textarea.value = new_value;\n",
    "        textarea.selectionStart = cursorPosition + content.length;\n",
    "        textarea.selectionEnd = cursorPosition + content.length;\n",
    "        textarea.focus();\n",
    "        return new_value\n",
    "    }}\"\"\"\n",
    "\n",
    "with gr.Blocks() as demo:\n",
    "    input_text = gr.Textbox(elem_id='input_text', interactive=True)\n",
    "    btn = gr.Button(\"Insert\")\n",
    "    btn.click(fn=None, outputs=input_text, js=js_insert(\"[break]\"))\n",
    "demo.launch()"
   ]
  }
 ],
 "metadata": {
  "kernelspec": {
   "display_name": "diffusers",
   "language": "python",
   "name": "python3"
  },
  "language_info": {
   "codemirror_mode": {
    "name": "ipython",
    "version": 3
   },
   "file_extension": ".py",
   "mimetype": "text/x-python",
   "name": "python",
   "nbconvert_exporter": "python",
   "pygments_lexer": "ipython3",
   "version": "3.11.9"
  }
 },
 "nbformat": 4,
 "nbformat_minor": 2
}
